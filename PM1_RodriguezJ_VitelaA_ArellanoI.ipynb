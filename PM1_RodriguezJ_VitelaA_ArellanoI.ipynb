{
 "cells": [
  {
   "cell_type": "code",
   "execution_count": 1,
   "metadata": {},
   "outputs": [],
   "source": [
    "#Proyecto\n",
    "\n",
    "#Importar numpy y matplotlib.pyplot\n",
    "import numpy as np\n",
    "import matplotlib.pyplot as plt\n",
    "%matplotlib inline\n",
    "import scipy.optimize as opt"
   ]
  },
  {
   "cell_type": "markdown",
   "metadata": {},
   "source": [
    "## Proyecto 1er Parcial  \n",
    "\n",
    "\n",
    "Una casa de bolsa ha reunido un capital de 600 millones de pesos para administrarlo por seis años, por lo que está interesada en encontrar el mejor portafolio de inversiones que le permita maximizar el rendimiento de la inversión en ese periodo. Para este fin, se estudiaron algunos instrumentos de inversión a plazo fijo, obteniéndose datos del rendimiento ofrecido al final del vencimiento. Los periodos de vencimiento y la disponibilidad del instrumento para invertir en él. Al analizar los instrumentos de inversión se vio la necesidad de tener una alternativa más que comprendiera el dinero que intencionalmente no se invierta en ese año esperando una mejor opción de inversión en un periodo futuro. Obviamente el rendimiento de esta alternativa es nulo, no tiene vencimiento y está disponible en forma inmediata, es decir cada año. Con los datos recabados se construyó la siguiente tabla: \n",
    "\n",
    "|Instrumento de Inversion|Rendimiento al Final del Periodo (%)|Periodo de Vencimiento (años)|Disponibilidad del Instrumento \n",
    ":----|----|----|----\n",
    "Tipo 1|28|3|Cada Año\n",
    "Tipo 2|16|2|Cada Año\n",
    "Tipo 3|50|3|Principios de año 2\n",
    "Tipo 4|40|2|Cada año después del año 3\n",
    "Tipo 5|45|4|Principios del año 3\n",
    "Tipo 6|0|-|Cada año inmediato\n",
    "\n",
    "La casa de bolsa quiere desarrollar un modelo que le permita determinar el portafolio financiero que maximice el rendimiento del paquete completo al final del año 6."
   ]
  },
  {
   "cell_type": "code",
   "execution_count": 14,
   "metadata": {},
   "outputs": [],
   "source": [
    "c = -np.array([0,0,0,1.28, 0,0,0,0,1.16, 0,0,1.4, 0,0,0,0,0,0,1])\n",
    "\n",
    "A = ([[1,0,0,0,1,0,0,0,0,0,0,0,1,1,0,0,0,0,0]])\n",
    "\n",
    "b = np.array([600])\n",
    "\n",
    "A_eq = np.array([[0,1,0,0,0,1,0,0,0,1,0,0,0,-1,1,0,0,0,0],\n",
    "                [0,0,1,0,-1.16,0,1,0,0,0,0,0,0,0,-1,1,0,0,0],\n",
    "                [-1.28,0,0,1,0,-1.16,0,1,0,0,1,0,0,0,0,-1,1,0,0],\n",
    "                [0,-1.28,0,0,0,0,-1.16,0,1,-1.5,0,1,-1.45,0,0,0,-1,1,0],\n",
    "                [0, 0,-1.28,0,0,0,0,-1.16,0,0,-1.4,0,0,0,0,0,0,-1,1]])\n",
    "b_eq = np.array([0,0,0,0,0])\n"
   ]
  },
  {
   "cell_type": "code",
   "execution_count": 15,
   "metadata": {},
   "outputs": [
    {
     "data": {
      "text/plain": [
       "     con: array([0., 0., 0., 0., 0.])\n",
       "     fun: -1260.0\n",
       " message: 'Optimization terminated successfully.'\n",
       "     nit: 10\n",
       "   slack: array([0.])\n",
       "  status: 0\n",
       " success: True\n",
       "       x: array([  0.,   0.,   0.,   0.,   0.,   0.,   0.,   0.,   0., 600.,   0.,\n",
       "       900.,   0., 600.,   0.,   0.,   0.,   0.,   0.])"
      ]
     },
     "execution_count": 15,
     "metadata": {},
     "output_type": "execute_result"
    }
   ],
   "source": [
    "sol2 = opt.linprog(c, A, b, A_eq, b_eq, method=\"simplex\")\n",
    "sol2"
   ]
  },
  {
   "cell_type": "code",
   "execution_count": null,
   "metadata": {},
   "outputs": [],
   "source": []
  },
  {
   "cell_type": "code",
   "execution_count": null,
   "metadata": {},
   "outputs": [],
   "source": []
  }
 ],
 "metadata": {
  "kernelspec": {
   "display_name": "Python 3",
   "language": "python",
   "name": "python3"
  },
  "language_info": {
   "codemirror_mode": {
    "name": "ipython",
    "version": 3
   },
   "file_extension": ".py",
   "mimetype": "text/x-python",
   "name": "python",
   "nbconvert_exporter": "python",
   "pygments_lexer": "ipython3",
   "version": "3.7.4"
  }
 },
 "nbformat": 4,
 "nbformat_minor": 2
}
